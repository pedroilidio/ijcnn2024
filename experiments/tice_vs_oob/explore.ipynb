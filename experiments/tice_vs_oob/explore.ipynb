{
 "cells": [
  {
   "cell_type": "code",
   "execution_count": 9,
   "metadata": {},
   "outputs": [],
   "source": [
    "from pathlib import Path\n",
    "import sys\n",
    "\n",
    "import numpy as np\n",
    "import sklearn.ensemble\n",
    "from sklearn.datasets import make_classification\n",
    "import sklearn.preprocessing\n",
    "import matplotlib.pyplot as plt\n",
    "import seaborn as sns\n",
    "\n",
    "from deep_forest.weak_labels import SCARImputer\n",
    "from deep_forest import tice\n",
    "sys.path.insert(0, \"..\")\n",
    "from positive_dropper import PositiveDropper\n",
    "\n",
    "RANDOM_STATE = 0"
   ]
  },
  {
   "cell_type": "code",
   "execution_count": 86,
   "metadata": {},
   "outputs": [],
   "source": [
    "X, y = make_classification(\n",
    "    n_samples=1000,\n",
    "    n_features=10,\n",
    "    n_informative=3,\n",
    "    n_redundant=0,\n",
    "    n_repeated=0,\n",
    "    n_classes=2,\n",
    "    n_clusters_per_class=2,\n",
    "    weights=None,\n",
    "    flip_y=0.0,\n",
    "    class_sep=5,\n",
    "    hypercube=True,\n",
    "    shift=0.0,\n",
    "    scale=1.0,\n",
    "    shuffle=True,\n",
    "    random_state=RANDOM_STATE,\n",
    ")\n",
    "X = sklearn.preprocessing.MinMaxScaler().fit_transform(X)\n",
    "y = y.reshape(-1, 1)\n",
    "\n",
    "c1, cc1 = tice.estimate_label_frequency_lower_bound(X, y, 10, most_promising_only=True)\n",
    "\n",
    "oob_imputer = SCARImputer(\n",
    "    estimator=sklearn.ensemble.RandomForestClassifier(\n",
    "        n_estimators=100,\n",
    "        max_depth=3,\n",
    "        random_state=0,\n",
    "        oob_score=True,\n",
    "        bootstrap=True,\n",
    "        max_samples=0.5,\n",
    "    ),\n",
    "    verbose=True,\n",
    ")\n",
    "\n",
    "# forest = sklearn.ensemble.RandomForestClassifier(\n",
    "forest = sklearn.ensemble.RandomForestRegressor(\n",
    "    n_estimators=100,\n",
    "    max_depth=None,\n",
    "    random_state=0,\n",
    "    oob_score=True,\n",
    "    bootstrap=True,\n",
    "    max_samples=0.5,\n",
    ")\n"
   ]
  },
  {
   "cell_type": "code",
   "execution_count": 92,
   "metadata": {},
   "outputs": [
    {
     "name": "stderr",
     "output_type": "stream",
     "text": [
      "/home/pedro/mestrado/biomal_repo/scripts/cascade_forests/env/lib/python3.11/site-packages/sklearn/base.py:1194: DataConversionWarning: A column-vector y was passed when a 1d array was expected. Please change the shape of y to (n_samples,), for example using ravel().\n",
      "  return fit_method(estimator, *args, **kwargs)\n"
     ]
    },
    {
     "name": "stdout",
     "output_type": "stream",
     "text": [
      "[0.4999943376843243] 0.0 0.5 0.5\n"
     ]
    },
    {
     "name": "stderr",
     "output_type": "stream",
     "text": [
      "/home/pedro/mestrado/biomal_repo/scripts/cascade_forests/env/lib/python3.11/site-packages/sklearn/base.py:1194: DataConversionWarning: A column-vector y was passed when a 1d array was expected. Please change the shape of y to (n_samples,), for example using ravel().\n",
      "  return fit_method(estimator, *args, **kwargs)\n"
     ]
    },
    {
     "name": "stdout",
     "output_type": "stream",
     "text": [
      "[0.4499911279799812] 0.1 0.5 0.45\n"
     ]
    },
    {
     "name": "stderr",
     "output_type": "stream",
     "text": [
      "/home/pedro/mestrado/biomal_repo/scripts/cascade_forests/env/lib/python3.11/site-packages/sklearn/base.py:1194: DataConversionWarning: A column-vector y was passed when a 1d array was expected. Please change the shape of y to (n_samples,), for example using ravel().\n",
      "  return fit_method(estimator, *args, **kwargs)\n"
     ]
    },
    {
     "name": "stdout",
     "output_type": "stream",
     "text": [
      "[0.40003939609091416] 0.2 0.5 0.4\n"
     ]
    },
    {
     "name": "stderr",
     "output_type": "stream",
     "text": [
      "/home/pedro/mestrado/biomal_repo/scripts/cascade_forests/env/lib/python3.11/site-packages/sklearn/base.py:1194: DataConversionWarning: A column-vector y was passed when a 1d array was expected. Please change the shape of y to (n_samples,), for example using ravel().\n",
      "  return fit_method(estimator, *args, **kwargs)\n"
     ]
    },
    {
     "name": "stdout",
     "output_type": "stream",
     "text": [
      "[0.3499928836118823] 0.30000000000000004 0.5 0.35\n"
     ]
    },
    {
     "name": "stderr",
     "output_type": "stream",
     "text": [
      "/home/pedro/mestrado/biomal_repo/scripts/cascade_forests/env/lib/python3.11/site-packages/sklearn/base.py:1194: DataConversionWarning: A column-vector y was passed when a 1d array was expected. Please change the shape of y to (n_samples,), for example using ravel().\n",
      "  return fit_method(estimator, *args, **kwargs)\n"
     ]
    },
    {
     "name": "stdout",
     "output_type": "stream",
     "text": [
      "[0.30002334516104756] 0.4 0.5 0.3\n"
     ]
    },
    {
     "name": "stderr",
     "output_type": "stream",
     "text": [
      "/home/pedro/mestrado/biomal_repo/scripts/cascade_forests/env/lib/python3.11/site-packages/sklearn/base.py:1194: DataConversionWarning: A column-vector y was passed when a 1d array was expected. Please change the shape of y to (n_samples,), for example using ravel().\n",
      "  return fit_method(estimator, *args, **kwargs)\n"
     ]
    },
    {
     "name": "stdout",
     "output_type": "stream",
     "text": [
      "[0.2500132216599396] 0.5 0.5 0.25\n"
     ]
    },
    {
     "name": "stderr",
     "output_type": "stream",
     "text": [
      "/home/pedro/mestrado/biomal_repo/scripts/cascade_forests/env/lib/python3.11/site-packages/sklearn/base.py:1194: DataConversionWarning: A column-vector y was passed when a 1d array was expected. Please change the shape of y to (n_samples,), for example using ravel().\n",
      "  return fit_method(estimator, *args, **kwargs)\n"
     ]
    },
    {
     "name": "stdout",
     "output_type": "stream",
     "text": [
      "[0.1999668056446809] 0.6000000000000001 0.5 0.2\n"
     ]
    },
    {
     "name": "stderr",
     "output_type": "stream",
     "text": [
      "/home/pedro/mestrado/biomal_repo/scripts/cascade_forests/env/lib/python3.11/site-packages/sklearn/base.py:1194: DataConversionWarning: A column-vector y was passed when a 1d array was expected. Please change the shape of y to (n_samples,), for example using ravel().\n",
      "  return fit_method(estimator, *args, **kwargs)\n"
     ]
    },
    {
     "name": "stdout",
     "output_type": "stream",
     "text": [
      "[0.15000009605409872] 0.7000000000000001 0.5 0.15\n"
     ]
    },
    {
     "name": "stderr",
     "output_type": "stream",
     "text": [
      "/home/pedro/mestrado/biomal_repo/scripts/cascade_forests/env/lib/python3.11/site-packages/sklearn/base.py:1194: DataConversionWarning: A column-vector y was passed when a 1d array was expected. Please change the shape of y to (n_samples,), for example using ravel().\n",
      "  return fit_method(estimator, *args, **kwargs)\n"
     ]
    },
    {
     "name": "stdout",
     "output_type": "stream",
     "text": [
      "[0.1000001799697601] 0.8 0.5 0.1\n"
     ]
    },
    {
     "name": "stderr",
     "output_type": "stream",
     "text": [
      "/home/pedro/mestrado/biomal_repo/scripts/cascade_forests/env/lib/python3.11/site-packages/sklearn/base.py:1194: DataConversionWarning: A column-vector y was passed when a 1d array was expected. Please change the shape of y to (n_samples,), for example using ravel().\n",
      "  return fit_method(estimator, *args, **kwargs)\n"
     ]
    },
    {
     "name": "stdout",
     "output_type": "stream",
     "text": [
      "[0.04999734138764896] 0.9 0.5 0.05\n"
     ]
    },
    {
     "data": {
      "text/plain": [
       "<matplotlib.legend.Legend at 0x7f603edc7890>"
      ]
     },
     "execution_count": 92,
     "metadata": {},
     "output_type": "execute_result"
    },
    {
     "data": {
      "image/png": "[encoded data removed]",
      "text/plain": [
       "<Figure size 700x1100 with 10 Axes>"
      ]
     },
     "metadata": {},
     "output_type": "display_data"
    }
   ],
   "source": [
    "drop_fractions = np.linspace(0, 1, 10, endpoint=False)\n",
    "n_fractions = len(drop_fractions)\n",
    "fig, axs = plt.subplots(n_fractions, 1, figsize=(7, n_fractions + 1), sharex=True)\n",
    "\n",
    "for i, drop_fraction in enumerate(drop_fractions):\n",
    "    pd = PositiveDropper(drop=drop_fraction, random_state=RANDOM_STATE)\n",
    "    Xt, yt = pd.fit_resample(X, y)\n",
    "\n",
    "    if sklearn.base.is_classifier(forest):\n",
    "        oob_proba = forest.fit(Xt, yt).oob_decision_function_\n",
    "        oob_proba = oob_proba[:, 1]\n",
    "    else:\n",
    "        oob_proba = forest.fit(Xt, yt).oob_prediction_\n",
    "\n",
    "    positives_proba = oob_proba[y.astype(bool).reshape(-1)]\n",
    "    hist_1, bin_edges = np.histogram(\n",
    "        positives_proba, bins=\"auto\", density=True,\n",
    "    )\n",
    "    hist_all, _ = np.histogram(\n",
    "        oob_proba, bins=bin_edges, density=True,\n",
    "    )\n",
    "    width = bin_edges[1] - bin_edges[0]\n",
    "\n",
    "    plt.xlim(0, 1)\n",
    "    axs[i].bar(\n",
    "        # height=hist_1 / hist_all * yt.mean(),\n",
    "        height=hist_1,\n",
    "        x=bin_edges[:-1],\n",
    "        width=width * 0.8,\n",
    "        label=f\"{1 - drop_fraction:.1f}\",\n",
    "        align=\"center\",\n",
    "        alpha=0.7,\n",
    "    )\n",
    "\n",
    "    # plt.hist(positives_proba, bins=30, label=f\"{1 - drop_fraction:.1f}\")\n",
    "    axs[i].axvline(1 - drop_fraction, color=\"black\", linestyle=\"solid\")\n",
    "    axs[i].axvline(np.percentile(positives_proba, 50), color=\"black\", linestyle=\"--\")\n",
    "    axs[i].axvline(positives_proba.mean(), color=\"black\", linestyle=\":\")\n",
    "    # axs[i].axvline(np.percentile(positives_proba, 95), color=\"black\", linestyle=\":\")\n",
    "    # axs[i].axvline(positives_proba.max(), color=\"black\", linestyle=\"dotted\")\n",
    "\n",
    "    c, cc = tice.estimate_label_frequency_lower_bound(\n",
    "        Xt,\n",
    "        yt,\n",
    "        10,\n",
    "        most_promising_only=False,\n",
    "        delta=0.1,\n",
    "    )\n",
    "    print(c, drop_fraction, y.mean(), yt.mean())\n",
    "\n",
    "    # axs[i].axvline(c, color=\"orange\", linestyle=(0, (5, 10)))\n",
    "\n",
    "plt.legend()\n"
   ]
  }
 ],
 "metadata": {
  "kernelspec": {
   "display_name": "env_junest",
   "language": "python",
   "name": "python3"
  },
  "language_info": {
   "codemirror_mode": {
    "name": "ipython",
    "version": 3
   },
   "file_extension": ".py",
   "mimetype": "text/x-python",
   "name": "python",
   "nbconvert_exporter": "python",
   "pygments_lexer": "ipython3",
   "version": "3.11.5"
  }
 },
 "nbformat": 4,
 "nbformat_minor": 2
}
